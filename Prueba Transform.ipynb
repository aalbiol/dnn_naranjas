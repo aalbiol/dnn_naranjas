{
 "cells": [
  {
   "cell_type": "code",
   "execution_count": 2,
   "id": "769b7f3d",
   "metadata": {},
   "outputs": [],
   "source": [
    "import numpy as np\n",
    "import pycimg\n",
    "import os\n",
    "from PIL import Image\n",
    "import torch\n",
    "from torchvision import transforms"
   ]
  },
  {
   "cell_type": "code",
   "execution_count": 3,
   "id": "cc9bec1c",
   "metadata": {},
   "outputs": [
    {
     "name": "stdout",
     "output_type": "stream",
     "text": [
      "/home/aalbiol/owc/mscanData/oranges/naranjasSara/bueno/obj0000.cimg\n",
      "13\n"
     ]
    }
   ],
   "source": [
    "ruta='/home/aalbiol/owc/mscanData/oranges/naranjasSara/'\n",
    "clase='bueno'\n",
    "fichero='obj0000.cimg'\n",
    "\n",
    "filename=os.path.join(ruta,clase,fichero)\n",
    "print(filename)\n",
    "pils=pycimg.cimgread(filename)\n",
    "print(len(pils))"
   ]
  },
  {
   "cell_type": "code",
   "execution_count": 25,
   "id": "c443bdea",
   "metadata": {},
   "outputs": [],
   "source": [
    "transform = transforms.Compose([\n",
    "        transforms.Resize((500,500)),\n",
    "        transforms.RandomHorizontalFlip(0.3),\n",
    "        transforms.RandomVerticalFlip(0.3),\n",
    "        transforms.RandomApply([   \n",
    "            transforms.RandomRotation(180)                    \n",
    "        ]),\n",
    "        transforms.ToTensor(),\n",
    "        transforms.Normalize((0.48232,), (0.23051,))\n",
    "])"
   ]
  },
  {
   "cell_type": "code",
   "execution_count": 26,
   "id": "d70f46af",
   "metadata": {},
   "outputs": [
    {
     "name": "stdout",
     "output_type": "stream",
     "text": [
      "13\n"
     ]
    }
   ],
   "source": [
    "pilst=[]\n",
    "for pil in pils:\n",
    "    pilt=transform(pil)\n",
    "    pilst.append(pilt)\n",
    "print(len(pilst))"
   ]
  },
  {
   "cell_type": "code",
   "execution_count": 27,
   "id": "3a30d8c4",
   "metadata": {},
   "outputs": [],
   "source": [
    "sample = torch.stack(pilst,axis=0)  "
   ]
  },
  {
   "cell_type": "code",
   "execution_count": 28,
   "id": "985fba22",
   "metadata": {},
   "outputs": [
    {
     "data": {
      "text/plain": [
       "torch.Size([13, 3, 500, 500])"
      ]
     },
     "execution_count": 28,
     "metadata": {},
     "output_type": "execute_result"
    }
   ],
   "source": [
    "sample.shape"
   ]
  },
  {
   "cell_type": "code",
   "execution_count": 29,
   "id": "87e0d00f",
   "metadata": {},
   "outputs": [
    {
     "data": {
      "text/plain": [
       "tensor([[[-2.0924, -2.0924, -2.0924,  ..., -2.0924, -2.0924, -2.0924],\n",
       "         [-2.0924, -2.0924, -2.0924,  ..., -2.0924, -2.0924, -2.0924],\n",
       "         [-2.0924, -2.0924, -2.0924,  ..., -2.0924, -2.0924, -2.0924],\n",
       "         ...,\n",
       "         [-2.0924, -2.0924, -2.0924,  ..., -2.0924, -2.0924, -2.0924],\n",
       "         [-2.0924, -2.0924, -2.0924,  ..., -2.0924, -2.0924, -2.0924],\n",
       "         [-2.0924, -2.0924, -2.0924,  ..., -2.0924, -2.0924, -2.0924]],\n",
       "\n",
       "        [[-2.0924, -2.0924, -2.0924,  ..., -2.0924, -2.0924, -2.0924],\n",
       "         [-2.0924, -2.0924, -2.0924,  ..., -2.0924, -2.0924, -2.0924],\n",
       "         [-2.0924, -2.0924, -2.0924,  ..., -2.0924, -2.0924, -2.0924],\n",
       "         ...,\n",
       "         [-2.0924, -2.0924, -2.0924,  ..., -2.0924, -2.0924, -2.0924],\n",
       "         [-2.0924, -2.0924, -2.0924,  ..., -2.0924, -2.0924, -2.0924],\n",
       "         [-2.0924, -2.0924, -2.0924,  ..., -2.0924, -2.0924, -2.0924]],\n",
       "\n",
       "        [[-2.0924, -2.0924, -2.0924,  ..., -2.0924, -2.0924, -2.0924],\n",
       "         [-2.0924, -2.0924, -2.0924,  ..., -2.0924, -2.0924, -2.0924],\n",
       "         [-2.0924, -2.0924, -2.0924,  ..., -2.0924, -2.0924, -2.0924],\n",
       "         ...,\n",
       "         [-2.0924, -2.0924, -2.0924,  ..., -2.0924, -2.0924, -2.0924],\n",
       "         [-2.0924, -2.0924, -2.0924,  ..., -2.0924, -2.0924, -2.0924],\n",
       "         [-2.0924, -2.0924, -2.0924,  ..., -2.0924, -2.0924, -2.0924]]])"
      ]
     },
     "execution_count": 29,
     "metadata": {},
     "output_type": "execute_result"
    }
   ],
   "source": []
  },
  {
   "cell_type": "code",
   "execution_count": null,
   "id": "d42523c3",
   "metadata": {},
   "outputs": [],
   "source": []
  }
 ],
 "metadata": {
  "kernelspec": {
   "display_name": "Python 3 (ipykernel)",
   "language": "python",
   "name": "python3"
  },
  "language_info": {
   "codemirror_mode": {
    "name": "ipython",
    "version": 3
   },
   "file_extension": ".py",
   "mimetype": "text/x-python",
   "name": "python",
   "nbconvert_exporter": "python",
   "pygments_lexer": "ipython3",
   "version": "3.10.6"
  }
 },
 "nbformat": 4,
 "nbformat_minor": 5
}
