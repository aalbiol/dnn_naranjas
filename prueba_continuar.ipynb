{
 "cells": [
  {
   "cell_type": "code",
   "execution_count": 1,
   "metadata": {},
   "outputs": [],
   "source": [
    "import sys\n",
    "import warnings\n",
    "from pathlib import Path\n",
    "from argparse import ArgumentParser\n",
    "warnings.filterwarnings('ignore')\n",
    "\n",
    "# torch and lightning imports\n",
    "import torch\n",
    "import torch.nn as nn\n",
    "import torch.nn.functional as F\n",
    "import torchvision.models as models\n",
    "from torch.optim import SGD, Adam\n",
    "from torchvision import transforms\n",
    "from torchvision.datasets import ImageFolder\n",
    "from torch.utils.data import DataLoader\n",
    "import pytorch_lightning as pl\n",
    "import wandb\n",
    "import wandb.plot\n",
    "from pytorch_lightning.loggers import WandbLogger\n",
    "from typing import Tuple,Any\n",
    "\n",
    "from dataLoad import FruitDataModule\n",
    "from torchmetrics import ConfusionMatrix\n",
    "import matplotlib.pyplot as plt\n",
    "import numpy as np\n"
   ]
  },
  {
   "cell_type": "code",
   "execution_count": 2,
   "metadata": {},
   "outputs": [],
   "source": [
    "checkpoint = torch.load('starting_models/pretrain_3_clases_5000_epochs_capa_final.ckpt')"
   ]
  },
  {
   "cell_type": "code",
   "execution_count": 7,
   "metadata": {},
   "outputs": [
    {
     "name": "stdout",
     "output_type": "stream",
     "text": [
      "epoch\n",
      "global_step\n",
      "pytorch-lightning_version\n",
      "state_dict\n",
      "loops\n",
      "callbacks\n",
      "optimizer_states\n",
      "lr_schedulers\n",
      "datamodule_hparams_name\n",
      "datamodule_hyper_parameters\n"
     ]
    }
   ],
   "source": [
    "for key, value in checkpoint.items():\n",
    "    print( key)"
   ]
  },
  {
   "cell_type": "code",
   "execution_count": 10,
   "metadata": {},
   "outputs": [],
   "source": [
    "state=checkpoint['state_dict']"
   ]
  },
  {
   "cell_type": "code",
   "execution_count": 11,
   "metadata": {},
   "outputs": [
    {
     "name": "stdout",
     "output_type": "stream",
     "text": [
      "resnet_model.conv1.weight\n",
      "resnet_model.bn1.weight\n",
      "resnet_model.bn1.bias\n",
      "resnet_model.bn1.running_mean\n",
      "resnet_model.bn1.running_var\n",
      "resnet_model.bn1.num_batches_tracked\n",
      "resnet_model.layer1.0.conv1.weight\n",
      "resnet_model.layer1.0.bn1.weight\n",
      "resnet_model.layer1.0.bn1.bias\n",
      "resnet_model.layer1.0.bn1.running_mean\n",
      "resnet_model.layer1.0.bn1.running_var\n",
      "resnet_model.layer1.0.bn1.num_batches_tracked\n",
      "resnet_model.layer1.0.conv2.weight\n",
      "resnet_model.layer1.0.bn2.weight\n",
      "resnet_model.layer1.0.bn2.bias\n",
      "resnet_model.layer1.0.bn2.running_mean\n",
      "resnet_model.layer1.0.bn2.running_var\n",
      "resnet_model.layer1.0.bn2.num_batches_tracked\n",
      "resnet_model.layer1.1.conv1.weight\n",
      "resnet_model.layer1.1.bn1.weight\n",
      "resnet_model.layer1.1.bn1.bias\n",
      "resnet_model.layer1.1.bn1.running_mean\n",
      "resnet_model.layer1.1.bn1.running_var\n",
      "resnet_model.layer1.1.bn1.num_batches_tracked\n",
      "resnet_model.layer1.1.conv2.weight\n",
      "resnet_model.layer1.1.bn2.weight\n",
      "resnet_model.layer1.1.bn2.bias\n",
      "resnet_model.layer1.1.bn2.running_mean\n",
      "resnet_model.layer1.1.bn2.running_var\n",
      "resnet_model.layer1.1.bn2.num_batches_tracked\n",
      "resnet_model.layer2.0.conv1.weight\n",
      "resnet_model.layer2.0.bn1.weight\n",
      "resnet_model.layer2.0.bn1.bias\n",
      "resnet_model.layer2.0.bn1.running_mean\n",
      "resnet_model.layer2.0.bn1.running_var\n",
      "resnet_model.layer2.0.bn1.num_batches_tracked\n",
      "resnet_model.layer2.0.conv2.weight\n",
      "resnet_model.layer2.0.bn2.weight\n",
      "resnet_model.layer2.0.bn2.bias\n",
      "resnet_model.layer2.0.bn2.running_mean\n",
      "resnet_model.layer2.0.bn2.running_var\n",
      "resnet_model.layer2.0.bn2.num_batches_tracked\n",
      "resnet_model.layer2.0.downsample.0.weight\n",
      "resnet_model.layer2.0.downsample.1.weight\n",
      "resnet_model.layer2.0.downsample.1.bias\n",
      "resnet_model.layer2.0.downsample.1.running_mean\n",
      "resnet_model.layer2.0.downsample.1.running_var\n",
      "resnet_model.layer2.0.downsample.1.num_batches_tracked\n",
      "resnet_model.layer2.1.conv1.weight\n",
      "resnet_model.layer2.1.bn1.weight\n",
      "resnet_model.layer2.1.bn1.bias\n",
      "resnet_model.layer2.1.bn1.running_mean\n",
      "resnet_model.layer2.1.bn1.running_var\n",
      "resnet_model.layer2.1.bn1.num_batches_tracked\n",
      "resnet_model.layer2.1.conv2.weight\n",
      "resnet_model.layer2.1.bn2.weight\n",
      "resnet_model.layer2.1.bn2.bias\n",
      "resnet_model.layer2.1.bn2.running_mean\n",
      "resnet_model.layer2.1.bn2.running_var\n",
      "resnet_model.layer2.1.bn2.num_batches_tracked\n",
      "resnet_model.layer3.0.conv1.weight\n",
      "resnet_model.layer3.0.bn1.weight\n",
      "resnet_model.layer3.0.bn1.bias\n",
      "resnet_model.layer3.0.bn1.running_mean\n",
      "resnet_model.layer3.0.bn1.running_var\n",
      "resnet_model.layer3.0.bn1.num_batches_tracked\n",
      "resnet_model.layer3.0.conv2.weight\n",
      "resnet_model.layer3.0.bn2.weight\n",
      "resnet_model.layer3.0.bn2.bias\n",
      "resnet_model.layer3.0.bn2.running_mean\n",
      "resnet_model.layer3.0.bn2.running_var\n",
      "resnet_model.layer3.0.bn2.num_batches_tracked\n",
      "resnet_model.layer3.0.downsample.0.weight\n",
      "resnet_model.layer3.0.downsample.1.weight\n",
      "resnet_model.layer3.0.downsample.1.bias\n",
      "resnet_model.layer3.0.downsample.1.running_mean\n",
      "resnet_model.layer3.0.downsample.1.running_var\n",
      "resnet_model.layer3.0.downsample.1.num_batches_tracked\n",
      "resnet_model.layer3.1.conv1.weight\n",
      "resnet_model.layer3.1.bn1.weight\n",
      "resnet_model.layer3.1.bn1.bias\n",
      "resnet_model.layer3.1.bn1.running_mean\n",
      "resnet_model.layer3.1.bn1.running_var\n",
      "resnet_model.layer3.1.bn1.num_batches_tracked\n",
      "resnet_model.layer3.1.conv2.weight\n",
      "resnet_model.layer3.1.bn2.weight\n",
      "resnet_model.layer3.1.bn2.bias\n",
      "resnet_model.layer3.1.bn2.running_mean\n",
      "resnet_model.layer3.1.bn2.running_var\n",
      "resnet_model.layer3.1.bn2.num_batches_tracked\n",
      "resnet_model.layer4.0.conv1.weight\n",
      "resnet_model.layer4.0.bn1.weight\n",
      "resnet_model.layer4.0.bn1.bias\n",
      "resnet_model.layer4.0.bn1.running_mean\n",
      "resnet_model.layer4.0.bn1.running_var\n",
      "resnet_model.layer4.0.bn1.num_batches_tracked\n",
      "resnet_model.layer4.0.conv2.weight\n",
      "resnet_model.layer4.0.bn2.weight\n",
      "resnet_model.layer4.0.bn2.bias\n",
      "resnet_model.layer4.0.bn2.running_mean\n",
      "resnet_model.layer4.0.bn2.running_var\n",
      "resnet_model.layer4.0.bn2.num_batches_tracked\n",
      "resnet_model.layer4.0.downsample.0.weight\n",
      "resnet_model.layer4.0.downsample.1.weight\n",
      "resnet_model.layer4.0.downsample.1.bias\n",
      "resnet_model.layer4.0.downsample.1.running_mean\n",
      "resnet_model.layer4.0.downsample.1.running_var\n",
      "resnet_model.layer4.0.downsample.1.num_batches_tracked\n",
      "resnet_model.layer4.1.conv1.weight\n",
      "resnet_model.layer4.1.bn1.weight\n",
      "resnet_model.layer4.1.bn1.bias\n",
      "resnet_model.layer4.1.bn1.running_mean\n",
      "resnet_model.layer4.1.bn1.running_var\n",
      "resnet_model.layer4.1.bn1.num_batches_tracked\n",
      "resnet_model.layer4.1.conv2.weight\n",
      "resnet_model.layer4.1.bn2.weight\n",
      "resnet_model.layer4.1.bn2.bias\n",
      "resnet_model.layer4.1.bn2.running_mean\n",
      "resnet_model.layer4.1.bn2.running_var\n",
      "resnet_model.layer4.1.bn2.num_batches_tracked\n",
      "resnet_model.fc.weight\n",
      "resnet_model.fc.bias\n"
     ]
    }
   ],
   "source": [
    "for key, value in state.items():\n",
    "    print( key)"
   ]
  },
  {
   "cell_type": "code",
   "execution_count": null,
   "metadata": {},
   "outputs": [],
   "source": []
  }
 ],
 "metadata": {
  "kernelspec": {
   "display_name": "Python 3.10.6 ('dnn2')",
   "language": "python",
   "name": "python3"
  },
  "language_info": {
   "codemirror_mode": {
    "name": "ipython",
    "version": 3
   },
   "file_extension": ".py",
   "mimetype": "text/x-python",
   "name": "python",
   "nbconvert_exporter": "python",
   "pygments_lexer": "ipython3",
   "version": "3.10.6"
  },
  "orig_nbformat": 4,
  "vscode": {
   "interpreter": {
    "hash": "1bcc89432329c26d4a2724c3ec7eb6bc1d6f7894f46f84c6d2d1a44214eed8c4"
   }
  }
 },
 "nbformat": 4,
 "nbformat_minor": 2
}
